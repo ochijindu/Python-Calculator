{
 "cells": [
  {
   "cell_type": "code",
   "execution_count": null,
   "metadata": {},
   "outputs": [],
   "source": [
    "print(\"Welcome to your Personal Calculator.\")\n",
    "    \n",
    "def sumation():\n",
    "    list_of_nums = []\n",
    "    counter = 0\n",
    "    prompt = int(input('How many numbers do you want to add?: '))\n",
    "    while counter < prompt:\n",
    "        num = int(input(\"Enter a number: \"))\n",
    "        list_of_nums.append(num)\n",
    "        counter += 1\n",
    "    sum_nums = sum(list_of_nums)\n",
    "    return sum_nums\n",
    "\n",
    "def substract():\n",
    "    num1 = int(input(\"Enter your first number: \"))\n",
    "    num2 = int(input(\"Enter your second number: \"))\n",
    "    subtr_num = num1 - num2\n",
    "    return subtr_num\n",
    "\n",
    "def div():\n",
    "    num1 = int(input(\"Enter your first number: \"))\n",
    "    num2 = int(input(\"Enter your second number: \"))\n",
    "    if num2 == 0:\n",
    "        print('Invalid operation!. Kindly read the welcome instruction.')\n",
    "    else:\n",
    "        div_num = num1/num2\n",
    "    return div_num\n",
    "\n",
    "def multi():\n",
    "    num1 = int(input(\"Enter your first number: \"))\n",
    "    num2 = int(input(\"Enter your second number: \"))\n",
    "    multi_num = num1 * num2\n",
    "    return multi_num\n",
    "\n",
    "op = int(input(\"Hi, what do you want to do today? Kindly Enter 1 to add numbers, Enter 2 to substract numbers, Enter 3 to multiply numbers, Enter 4 to divide numbers: \"))\n",
    "\n",
    "if op == 1:\n",
    "    print('Total: ', sumation())\n",
    "elif op == 2:\n",
    "    print('Total: ', substract())\n",
    "elif op == 3:\n",
    "    print('Total: ', multi())\n",
    "elif op == 4:\n",
    "    print('Total: ', div())\n",
    "else:\n",
    "    print('Please tell us what you want to do.')"
   ]
  }
 ],
 "metadata": {
  "kernelspec": {
   "display_name": "Python 3",
   "language": "python",
   "name": "python3"
  },
  "language_info": {
   "codemirror_mode": {
    "name": "ipython",
    "version": 3
   },
   "file_extension": ".py",
   "mimetype": "text/x-python",
   "name": "python",
   "nbconvert_exporter": "python",
   "pygments_lexer": "ipython3",
   "version": "3.7.6"
  }
 },
 "nbformat": 4,
 "nbformat_minor": 4
}
